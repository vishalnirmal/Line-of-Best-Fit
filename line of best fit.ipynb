{
 "cells": [
  {
   "cell_type": "code",
   "execution_count": 22,
   "metadata": {},
   "outputs": [],
   "source": [
    "import matplotlib.pyplot as plt\n",
    "import pandas as pd\n",
    "import numpy as np"
   ]
  },
  {
   "cell_type": "code",
   "execution_count": 23,
   "metadata": {},
   "outputs": [
    {
     "name": "stdout",
     "output_type": "stream",
     "text": [
      "[[  1.  73.]\n",
      " [  1.  99.]\n",
      " [  1. 137.]\n",
      " [  1. 161.]\n",
      " [  1. 204.]]\n",
      "[[742.]\n",
      " [661.]\n",
      " [687.]\n",
      " [624.]\n",
      " [649.]]\n"
     ]
    }
   ],
   "source": [
    "#Reading the data\n",
    "data = pd.read_csv(\"lineardata.csv\",delimiter=',')\n",
    "#Adding buffer column to ease the computation\n",
    "data.insert(0,\"buffer\",[1]*len(data[\"x\"]))\n",
    "#Seperating x and y\n",
    "x = data[[\"buffer\",\"x\"]]\n",
    "y = data[\"y\"]\n",
    "m,n = x.shape\n",
    "y = np.array(y).reshape((m,1))\n",
    "x = np.array(x)\n",
    "print(x[:5,:])\n",
    "print(y[:5])"
   ]
  },
  {
   "cell_type": "code",
   "execution_count": 24,
   "metadata": {},
   "outputs": [
    {
     "data": {
      "text/plain": [
       "<matplotlib.collections.PathCollection at 0x1a11986e780>"
      ]
     },
     "execution_count": 24,
     "metadata": {},
     "output_type": "execute_result"
    },
    {
     "data": {
      "image/png": "[encoded data removed]",
      "text/plain": [
       "<Figure size 432x288 with 1 Axes>"
      ]
     },
     "metadata": {
      "needs_background": "light"
     },
     "output_type": "display_data"
    }
   ],
   "source": [
    "#Printing the Actual Data\n",
    "plt.scatter(x[:,1],y)"
   ]
  },
  {
   "cell_type": "code",
   "execution_count": 25,
   "metadata": {},
   "outputs": [
    {
     "name": "stdout",
     "output_type": "stream",
     "text": [
      "[[1.         0.12006579]\n",
      " [1.         0.16282895]\n",
      " [1.         0.22532895]\n",
      " [1.         0.26480263]\n",
      " [1.         0.33552632]]\n",
      "[[0.97631579]\n",
      " [0.86973684]\n",
      " [0.90394737]\n",
      " [0.82105263]\n",
      " [0.85394737]]\n"
     ]
    }
   ],
   "source": [
    "#Normalizing the data\n",
    "mxx=[]\n",
    "for i in range(n):\n",
    "    mxx.append(x[:,i].max())\n",
    "    x[:,i] = x[:,i]/x[:,i].max()\n",
    "mxy = y.max()\n",
    "y = y/mxy\n",
    "print(x[:5,:])\n",
    "print(y[:5,:])"
   ]
  },
  {
   "cell_type": "code",
   "execution_count": 26,
   "metadata": {},
   "outputs": [],
   "source": [
    "#Defining a cost function\n",
    "def cost(X, y, theta):\n",
    "    return ((1/(len(X)))*(((X.dot(theta)-y)**2).sum()))*mxy"
   ]
  },
  {
   "cell_type": "code",
   "execution_count": 27,
   "metadata": {},
   "outputs": [],
   "source": [
    "alpha = 0.1\n",
    "num_iters = 100000\n",
    "temp = np.zeros((n,1))\n",
    "theta = np.random.random(size=(n,1)).reshape((n,1))\n",
    "for i in range(num_iters):\n",
    "    for j in range(n):\n",
    "        temp[j,0] = theta[j,0] - (alpha/m)*(((x.dot(theta)-y)*(x[:,j].reshape((m,1)))).sum())\n",
    "    theta = temp"
   ]
  },
  {
   "cell_type": "code",
   "execution_count": 28,
   "metadata": {},
   "outputs": [
    {
     "name": "stdout",
     "output_type": "stream",
     "text": [
      "[[731.81527656]\n",
      " [712.11265708]\n",
      " [683.3165209 ]\n",
      " [665.12948753]\n",
      " [632.54438607]]\n"
     ]
    }
   ],
   "source": [
    "#Getting the predicted values\n",
    "y_predict = x.dot(theta)*mxy\n",
    "print(y_predict[:5])"
   ]
  },
  {
   "cell_type": "code",
   "execution_count": 29,
   "metadata": {},
   "outputs": [
    {
     "data": {
      "text/plain": [
       "[<matplotlib.lines.Line2D at 0x1a1196c2470>]"
      ]
     },
     "execution_count": 29,
     "metadata": {},
     "output_type": "execute_result"
    },
    {
     "data": {
      "image/png": "[encoded data removed]",
      "text/plain": [
       "<Figure size 432x288 with 1 Axes>"
      ]
     },
     "metadata": {
      "needs_background": "light"
     },
     "output_type": "display_data"
    }
   ],
   "source": [
    "#plotting the graph\n",
    "plt.scatter(x[:,1]*mxx[1],y*mxy,marker='x')\n",
    "plt.plot(x[:,1]*mxx[1],y_predict,color='r')"
   ]
  },
  {
   "cell_type": "code",
   "execution_count": 30,
   "metadata": {},
   "outputs": [
    {
     "data": {
      "text/plain": [
       "1.4834041067204908"
      ]
     },
     "execution_count": 30,
     "metadata": {},
     "output_type": "execute_result"
    }
   ],
   "source": [
    "#Mean error of the Hypothesis function\n",
    "cost(x,y,theta)"
   ]
  }
 ],
 "metadata": {
  "kernelspec": {
   "display_name": "Python 3",
   "language": "python",
   "name": "python3"
  },
  "language_info": {
   "codemirror_mode": {
    "name": "ipython",
    "version": 3
   },
   "file_extension": ".py",
   "mimetype": "text/x-python",
   "name": "python",
   "nbconvert_exporter": "python",
   "pygments_lexer": "ipython3",
   "version": "3.6.0"
  }
 },
 "nbformat": 4,
 "nbformat_minor": 2
}
